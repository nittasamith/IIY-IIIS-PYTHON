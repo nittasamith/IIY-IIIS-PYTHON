{
  "nbformat": 4,
  "nbformat_minor": 0,
  "metadata": {
    "colab": {
      "provenance": [],
      "authorship_tag": "ABX9TyMzw/C8uVF7/Sn+q8jsImee",
      "include_colab_link": true
    },
    "kernelspec": {
      "name": "python3",
      "display_name": "Python 3"
    },
    "language_info": {
      "name": "python"
    }
  },
  "cells": [
    {
      "cell_type": "markdown",
      "metadata": {
        "id": "view-in-github",
        "colab_type": "text"
      },
      "source": [
        "<a href=\"https://colab.research.google.com/github/nittasamith/IIY-IIIS-PYTHON/blob/main/Python.ipynb\" target=\"_parent\"><img src=\"https://colab.research.google.com/assets/colab-badge.svg\" alt=\"Open In Colab\"/></a>"
      ]
    },
    {
      "cell_type": "code",
      "source": [
        "# Conversion factor\n",
        "KG_TO_POUNDS = 2.2\n",
        "# Ask the user for weight in kilograms\n",
        "kg = float(input(\"Enter weight in kilograms: \"))\n",
        "# Convert to pounds\n",
        "pounds = kg * KG_TO_POUNDS\n",
        "print(f\"{kg} kilograms is equal to {pounds:.2f} pounds.\")"
      ],
      "metadata": {
        "id": "6vtYfdtJYO4x",
        "colab": {
          "base_uri": "https://localhost:8080/"
        },
        "outputId": "2d38d239-e62f-49c2-b5cf-b5da0de90e5c"
      },
      "execution_count": 1,
      "outputs": [
        {
          "output_type": "stream",
          "name": "stdout",
          "text": [
            "Enter weight in kilograms: 5\n",
            "5.0 kilograms is equal to 11.00 pounds.\n"
          ]
        }
      ]
    },
    {
      "cell_type": "code",
      "source": [
        "for n in range(8,90,3):\n",
        "    print(n,end=\",\")"
      ],
      "metadata": {
        "colab": {
          "base_uri": "https://localhost:8080/"
        },
        "id": "WVlFDZyfL0i7",
        "outputId": "fd00ca77-2475-41b3-903d-b55b14147879"
      },
      "execution_count": 2,
      "outputs": [
        {
          "output_type": "stream",
          "name": "stdout",
          "text": [
            "8,11,14,17,20,23,26,29,32,35,38,41,44,47,50,53,56,59,62,65,68,71,74,77,80,83,86,89,"
          ]
        }
      ]
    },
    {
      "cell_type": "code",
      "source": [
        "numbers = [12, 45, 67, 23, 89, 34]\n",
        "largest = max(numbers)\n",
        "print(\"The largest number is:\", largest)"
      ],
      "metadata": {
        "colab": {
          "base_uri": "https://localhost:8080/"
        },
        "id": "Ecijn9hLL4Wy",
        "outputId": "1c0d315a-c152-4d3d-ce90-0b69c489d76b"
      },
      "execution_count": 3,
      "outputs": [
        {
          "output_type": "stream",
          "name": "stdout",
          "text": [
            "The largest number is: 89\n"
          ]
        }
      ]
    },
    {
      "cell_type": "code",
      "source": [
        "def fibonacci(n):\n",
        "    if n <= 0:\n",
        "        return \"Invalid input. n must be a positive integer.\"\n",
        "    elif n == 1:\n",
        "        return 0\n",
        "    elif n == 2:\n",
        "        return 1\n",
        "    else:\n",
        "        a, b = 0, 1\n",
        "        for _ in range(2, n):\n",
        "            a, b = b, a + b\n",
        "        return b\n",
        "n = int(input(\"Enter the position (n) of the Fibonacci number: \"))\n",
        "result = fibonacci(n)\n",
        "print(f\"The {n}th Fibonacci number is:\", result)"
      ],
      "metadata": {
        "colab": {
          "base_uri": "https://localhost:8080/"
        },
        "id": "FAr8lKZxMJ7T",
        "outputId": "87ef4e67-1de0-4729-888e-2d5a1654af14"
      },
      "execution_count": 4,
      "outputs": [
        {
          "output_type": "stream",
          "name": "stdout",
          "text": [
            "Enter the position (n) of the Fibonacci number: 10\n",
            "The 10th Fibonacci number is: 34\n"
          ]
        }
      ]
    },
    {
      "cell_type": "code",
      "source": [
        "\n",
        "class Car:\n",
        "    def __init__(self, make, model, year):  # Correct constructor name\n",
        "        self.make = make\n",
        "        self.model = model\n",
        "        self.year = year\n",
        "        self.is_started = False  # To keep track of the car's state\n",
        "    def start(self):\n",
        "        if not self.is_started:\n",
        "            print(f\"The {self.year} {self.make} {self.model} is starting.\")\n",
        "            self.is_started = True\n",
        "        else:\n",
        "            print(f\"The {self.year} {self.make} {self.model} is already running.\")\n",
        "    def stop(self):\n",
        "        if self.is_started:\n",
        "            print(f\"The {self.year} {self.make} {self.model} is stopping.\")\n",
        "            self.is_started = False\n",
        "        else:\n",
        "            print(f\"The {self.year} {self.make} {self.model} is already stopped.\")\n",
        "\n",
        "my_car = Car(\"Toyota\", \"Camry\", 2022)\n",
        "print(f\"My car: {my_car.make} {my_car.model} ({my_car.year})\")\n",
        "my_car.start()\n",
        "my_car.start()\n",
        "my_car.stop()\n",
        "my_car.stop()"
      ],
      "metadata": {
        "colab": {
          "base_uri": "https://localhost:8080/"
        },
        "id": "_05mIS-rMN0K",
        "outputId": "a8c35130-011d-4590-afd7-82e8882e1181"
      },
      "execution_count": 8,
      "outputs": [
        {
          "output_type": "stream",
          "name": "stdout",
          "text": [
            "My car: Toyota Camry (2022)\n",
            "The 2022 Toyota Camry is starting.\n",
            "The 2022 Toyota Camry is already running.\n",
            "The 2022 Toyota Camry is stopping.\n",
            "The 2022 Toyota Camry is already stopped.\n"
          ]
        }
      ]
    },
    {
      "cell_type": "code",
      "source": [
        "class Animal:\n",
        "    def make_sound(self):\n",
        "        print(\"Some generic animal sound\")\n",
        "class Dog(Animal):\n",
        "    def make_sound(self):\n",
        "        print(\"Woof!\")\n",
        "class Cat(Animal):\n",
        "    def make_sound(self):\n",
        "        print(\"Meow!\")\n",
        "class Bird(Animal):\n",
        "    def make_sound(self):\n",
        "        print(\"Tweet!\")\n",
        "# Demonstrating polymorphism\n",
        "animals = [Dog(), Cat(), Bird()]\n",
        "for animal in animals:\n",
        "    animal.make_sound()"
      ],
      "metadata": {
        "colab": {
          "base_uri": "https://localhost:8080/"
        },
        "id": "fF2IgFIUMUW8",
        "outputId": "a6e30f92-8fc1-4178-b95d-bdf4f00f2556"
      },
      "execution_count": 9,
      "outputs": [
        {
          "output_type": "stream",
          "name": "stdout",
          "text": [
            "Woof!\n",
            "Meow!\n",
            "Tweet!\n"
          ]
        }
      ]
    },
    {
      "cell_type": "code",
      "source": [
        "def safe_divide(numerator, denominator):\n",
        "    try:\n",
        "        # Try to divide\n",
        "        result = numerator / denominator\n",
        "        print(f\"The result of {numerator} / {denominator} is: {result}\")\n",
        "    except ZeroDivisionError:\n",
        "        # Handle division by zero\n",
        "        print(f\"Error: Cannot divide by zero! Attempted {numerator} / {denominator}\")\n",
        "    except TypeError:\n",
        "        # Handle wrong data types (e.g., string)\n",
        "        print(\"Error: Invalid input types. Please provide numbers.\")\n",
        "    except Exception as e:\n",
        "        # Handle any other unexpected error\n",
        "        print(f\"An unexpected error occurred: {e}\")\n",
        "# Demonstrating error handling\n",
        "print(\"\\n--- Error Handling Demonstration ---\")\n",
        "safe_divide(10, 2)       # Correct\n",
        "safe_divide(10, 0)       # Division by zero\n",
        "safe_divide(5, \"abc\")    # Type error"
      ],
      "metadata": {
        "colab": {
          "base_uri": "https://localhost:8080/"
        },
        "id": "ZZbwUSKIMj94",
        "outputId": "4a53edac-82d1-447b-d576-6ac5767ded4f"
      },
      "execution_count": 10,
      "outputs": [
        {
          "output_type": "stream",
          "name": "stdout",
          "text": [
            "\n",
            "--- Error Handling Demonstration ---\n",
            "The result of 10 / 2 is: 5.0\n",
            "Error: Cannot divide by zero! Attempted 10 / 0\n",
            "Error: Invalid input types. Please provide numbers.\n"
          ]
        }
      ]
    }
  ]
}