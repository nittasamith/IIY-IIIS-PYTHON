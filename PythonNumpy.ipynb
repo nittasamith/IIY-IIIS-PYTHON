{
  "nbformat": 4,
  "nbformat_minor": 0,
  "metadata": {
    "colab": {
      "provenance": [],
      "authorship_tag": "ABX9TyN9+wrdtdqaPbsf6ycMiY0j",
      "include_colab_link": true
    },
    "kernelspec": {
      "name": "python3",
      "display_name": "Python 3"
    },
    "language_info": {
      "name": "python"
    }
  },
  "cells": [
    {
      "cell_type": "markdown",
      "metadata": {
        "id": "view-in-github",
        "colab_type": "text"
      },
      "source": [
        "<a href=\"https://colab.research.google.com/github/nittasamith/IIY-IIIS-PYTHON/blob/PythonNumpy/PythonNumpy.ipynb\" target=\"_parent\"><img src=\"https://colab.research.google.com/assets/colab-badge.svg\" alt=\"Open In Colab\"/></a>"
      ]
    },
    {
      "cell_type": "code",
      "execution_count": null,
      "metadata": {
        "colab": {
          "base_uri": "https://localhost:8080/"
        },
        "id": "EVVkOKcDpRqt",
        "outputId": "7c84b1f7-7bfe-43a2-cf81-f0c3e8d992ea"
      },
      "outputs": [
        {
          "output_type": "stream",
          "name": "stdout",
          "text": [
            "\n",
            "2.Array:\n",
            "Array a: [1 2 3]\n",
            "Array b: [3 2 1]\n"
          ]
        }
      ],
      "source": [
        "import numpy as np\n",
        "\n",
        "a = np.array([1,2,3])\n",
        "b = np.array([3,2,1])\n",
        "print(\"\\n2.Array:\")\n",
        "print(\"Array a:\",a)\n",
        "print(\"Array b:\",b)"
      ]
    },
    {
      "cell_type": "code",
      "source": [
        "c = np.add(a,b)\n",
        "print(\"\\n3.Addition of a and b:\",c)"
      ],
      "metadata": {
        "colab": {
          "base_uri": "https://localhost:8080/"
        },
        "id": "0e3zGxthsH5F",
        "outputId": "28ec091f-0a8f-46df-de5a-441d37d7d751"
      },
      "execution_count": null,
      "outputs": [
        {
          "output_type": "stream",
          "name": "stdout",
          "text": [
            "\n",
            "3.Addition of a and b: [4 4 4]\n"
          ]
        }
      ]
    },
    {
      "cell_type": "code",
      "source": [
        "print(\"\\n4. Check if all the elements in array a are non-zero:\",np.all(a))"
      ],
      "metadata": {
        "colab": {
          "base_uri": "https://localhost:8080/"
        },
        "id": "387Ja3rXsK4u",
        "outputId": "c0103933-a0ae-4675-a182-9eea1e1da09e"
      },
      "execution_count": null,
      "outputs": [
        {
          "output_type": "stream",
          "name": "stdout",
          "text": [
            "\n",
            "4. Check if all the elements in array a are non-zero: True\n"
          ]
        }
      ]
    },
    {
      "cell_type": "code",
      "source": [
        "zeros_arr = np.zeros((2,3))\n",
        "print(\"\\n11.Array of zeros:\\n\",zeros_arr)"
      ],
      "metadata": {
        "colab": {
          "base_uri": "https://localhost:8080/"
        },
        "id": "OLkX3CqKsNYy",
        "outputId": "f64a0b39-6df1-4239-891f-83264d74ccb8"
      },
      "execution_count": null,
      "outputs": [
        {
          "output_type": "stream",
          "name": "stdout",
          "text": [
            "\n",
            "11.Array of zeros:\n",
            " [[0. 0. 0.]\n",
            " [0. 0. 0.]]\n"
          ]
        }
      ]
    },
    {
      "cell_type": "code",
      "source": [
        "ones_arr = np.ones((2,3))\n",
        "print(\"\\n12.Array of ones:\\n\",ones_arr)"
      ],
      "metadata": {
        "colab": {
          "base_uri": "https://localhost:8080/"
        },
        "id": "X_P18lXzsQrW",
        "outputId": "47624e8d-1065-4ade-a6cd-afb9e471401e"
      },
      "execution_count": null,
      "outputs": [
        {
          "output_type": "stream",
          "name": "stdout",
          "text": [
            "\n",
            "12.Array of ones:\n",
            " [[1. 1. 1.]\n",
            " [1. 1. 1.]]\n"
          ]
        }
      ]
    },
    {
      "cell_type": "code",
      "source": [
        "lin_arr = np.linspace(0,1,5)\n",
        "print(\"\\n13. Evenly spaced numbers from 0 to 1 (5 values):\", lin_arr)"
      ],
      "metadata": {
        "colab": {
          "base_uri": "https://localhost:8080/"
        },
        "id": "WL97kn44sTtO",
        "outputId": "3ffba3e1-a34f-4076-c594-ddd5ba75f1f4"
      },
      "execution_count": null,
      "outputs": [
        {
          "output_type": "stream",
          "name": "stdout",
          "text": [
            "\n",
            "13. Evenly spaced numbers from 0 to 1 (5 values): [0.   0.25 0.5  0.75 1.  ]\n"
          ]
        }
      ]
    },
    {
      "cell_type": "code",
      "source": [
        "list_from_array = lin_arr.tolist()\n",
        "print(\"\\n14. Convert linspace array to list :\",list_from_array)"
      ],
      "metadata": {
        "colab": {
          "base_uri": "https://localhost:8080/"
        },
        "id": "ZvGfY0c2sXE8",
        "outputId": "ac0a640d-abbc-408b-c19e-09c351702223"
      },
      "execution_count": null,
      "outputs": [
        {
          "output_type": "stream",
          "name": "stdout",
          "text": [
            "\n",
            "14. Convert linspace array to list : [0.0, 0.25, 0.5, 0.75, 1.0]\n"
          ]
        }
      ]
    },
    {
      "cell_type": "code",
      "source": [
        "import numpy as np\n",
        "arr = np.array([3,7,1,9,3,7,5,1,9,3])\n",
        "num = 5\n",
        "matrix = np.array([[10,50,30],\n",
        "                  [40,20,60],\n",
        "                  [70,80,90]])\n",
        "max_val = np.max(matrix)\n",
        "min_val = np.min(matrix)\n",
        "max_idx = np.argmax(matrix)\n",
        "min_idx = np.argmin (matrix)\n",
        "\n",
        "\n",
        "print(\"\\nCount of elements:\",arr.size)\n",
        "print(\"\\nUnique values:\",np.unique(arr))\n",
        "print(\"\\n Bincount (frequency of each number):\",np.bincount(arr))"
      ],
      "metadata": {
        "colab": {
          "base_uri": "https://localhost:8080/"
        },
        "id": "pY0j1uVUsZyF",
        "outputId": "8d811176-a5d3-4ca3-cf4c-03b0bcddb285"
      },
      "execution_count": null,
      "outputs": [
        {
          "output_type": "stream",
          "name": "stdout",
          "text": [
            "\n",
            "Count of elements: 10\n",
            "\n",
            "Unique values: [1 3 5 7 9]\n",
            "\n",
            " Bincount (frequency of each number): [0 2 0 3 0 1 0 2 0 2]\n"
          ]
        }
      ]
    },
    {
      "cell_type": "code",
      "source": [
        "import numpy as np\n",
        "print(\"a. Help on np.add function:\\n\")\n",
        "help(np.add)"
      ],
      "metadata": {
        "colab": {
          "base_uri": "https://localhost:8080/"
        },
        "id": "nNxFcIUnse4E",
        "outputId": "a9529758-5578-484a-ab60-1834f8ca63b5"
      },
      "execution_count": null,
      "outputs": [
        {
          "output_type": "stream",
          "name": "stdout",
          "text": [
            "a. Help on np.add function:\n",
            "\n",
            "Help on ufunc:\n",
            "\n",
            "add = <ufunc 'add'>\n",
            "    add(x1, x2, /, out=None, *, where=True, casting='same_kind', order='K', dtype=None, subok=True[, signature])\n",
            "\n",
            "    Add arguments element-wise.\n",
            "\n",
            "    Parameters\n",
            "    ----------\n",
            "    x1, x2 : array_like\n",
            "        The arrays to be added.\n",
            "        If ``x1.shape != x2.shape``, they must be broadcastable to a common\n",
            "        shape (which becomes the shape of the output).\n",
            "    out : ndarray, None, or tuple of ndarray and None, optional\n",
            "        A location into which the result is stored. If provided, it must have\n",
            "        a shape that the inputs broadcast to. If not provided or None,\n",
            "        a freshly-allocated array is returned. A tuple (possible only as a\n",
            "        keyword argument) must have length equal to the number of outputs.\n",
            "    where : array_like, optional\n",
            "        This condition is broadcast over the input. At locations where the\n",
            "        condition is True, the `out` array will be set to the ufunc result.\n",
            "        Elsewhere, the `out` array will retain its original value.\n",
            "        Note that if an uninitialized `out` array is created via the default\n",
            "        ``out=None``, locations within it where the condition is False will\n",
            "        remain uninitialized.\n",
            "    **kwargs\n",
            "        For other keyword-only arguments, see the\n",
            "        :ref:`ufunc docs <ufuncs.kwargs>`.\n",
            "\n",
            "    Returns\n",
            "    -------\n",
            "    add : ndarray or scalar\n",
            "        The sum of `x1` and `x2`, element-wise.\n",
            "        This is a scalar if both `x1` and `x2` are scalars.\n",
            "\n",
            "    Notes\n",
            "    -----\n",
            "    Equivalent to `x1` + `x2` in terms of array broadcasting.\n",
            "\n",
            "    Examples\n",
            "    --------\n",
            "    >>> np.add(1.0, 4.0)\n",
            "    5.0\n",
            "    >>> x1 = np.arange(9.0).reshape((3, 3))\n",
            "    >>> x2 = np.arange(3.0)\n",
            "    >>> np.add(x1, x2)\n",
            "    array([[  0.,   2.,   4.],\n",
            "           [  3.,   5.,   7.],\n",
            "           [  6.,   8.,  10.]])\n",
            "\n",
            "    The ``+`` operator can be used as a shorthand for ``np.add`` on ndarrays.\n",
            "\n",
            "    >>> x1 = np.arange(9.0).reshape((3, 3))\n",
            "    >>> x2 = np.arange(3.0)\n",
            "    >>> x1 + x2\n",
            "    array([[ 0.,  2.,  4.],\n",
            "           [ 3.,  5.,  7.],\n",
            "           [ 6.,  8., 10.]])\n",
            "\n"
          ]
        }
      ]
    },
    {
      "cell_type": "code",
      "source": [
        "arr2 = np.array([1,3,2,5])\n",
        "arr3 = np.array([1,2,3,4])\n",
        "print(\"\\nc.Element-wise comparison:\")\n",
        "print(\"Array 1:\",arr2)\n",
        "print(\"Array 2:\",arr3)"
      ],
      "metadata": {
        "colab": {
          "base_uri": "https://localhost:8080/"
        },
        "id": "czjly6p3sjUO",
        "outputId": "856d9ce9-9311-4c77-f3dc-4ad6be0a7316"
      },
      "execution_count": null,
      "outputs": [
        {
          "output_type": "stream",
          "name": "stdout",
          "text": [
            "\n",
            "c.Element-wise comparison:\n",
            "Array 1: [1 3 2 5]\n",
            "Array 2: [1 2 3 4]\n"
          ]
        }
      ]
    },
    {
      "cell_type": "code",
      "source": [
        "print(\"Greater (arr2 > arr3):\",np.greater(arr2,arr3))\n",
        "print(\"Greater Equal (arr2 >= arr3):\",np.greater_equal(arr2,arr3))\n",
        "print(\"Less (arr2 < arr3):\",np.less(arr2,arr3))\n",
        "print(\"Less Equal (arr2 <= arr3):\",np.less_equal(arr2,arr3))\n",
        "print(\"Equal (arr2 == arr3):\",np.equal(arr2,arr3))"
      ],
      "metadata": {
        "colab": {
          "base_uri": "https://localhost:8080/"
        },
        "id": "yCkPAEposnWx",
        "outputId": "d0f21886-51cd-4a5b-fbb7-539e1764897e"
      },
      "execution_count": null,
      "outputs": [
        {
          "output_type": "stream",
          "name": "stdout",
          "text": [
            "Greater (arr2 > arr3): [False  True False  True]\n",
            "Greater Equal (arr2 >= arr3): [ True  True False  True]\n",
            "Less (arr2 < arr3): [False False  True False]\n",
            "Less Equal (arr2 <= arr3): [ True False  True False]\n",
            "Equal (arr2 == arr3): [ True False False False]\n"
          ]
        }
      ]
    }
  ]
}